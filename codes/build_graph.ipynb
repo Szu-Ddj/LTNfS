{
 "cells": [
  {
   "cell_type": "code",
   "execution_count": 6,
   "metadata": {},
   "outputs": [
    {
     "name": "stdout",
     "output_type": "stream",
     "text": [
      "F1 Score for label 0: 0.6666666666666666\n",
      "F1 Score for label 1: 0.75\n",
      "Binary F1 Score: 0.7083333333333333\n",
      "0.7083333333333333\n"
     ]
    }
   ],
   "source": [
    "from sklearn.metrics import f1_score\n",
    "\n",
    "# 实际标签\n",
    "y_true = [1, 0, 1, 1, 0, 1, 0]\n",
    "y_pred = [1, 0, 1, 0, 0, 1, 1]\n",
    "\n",
    "\n",
    "# 计算类别为 0 的 F1 分数\n",
    "f1_label_0 = f1_score(y_true, y_pred, labels=[0], average='macro')\n",
    "\n",
    "# 计算类别为 1 的 F1 分数\n",
    "f1_label_1 = f1_score(y_true, y_pred, labels=[1], average='macro')\n",
    "\n",
    "# 计算整个数据集的二分类 F1 分数\n",
    "f1_binary = f1_score(y_true, y_pred, average='macro')\n",
    "\n",
    "print(\"F1 Score for label 0:\", f1_label_0)\n",
    "print(\"F1 Score for label 1:\", f1_label_1)\n",
    "print(\"Binary F1 Score:\", f1_binary)\n",
    "print((f1_label_0+f1_label_1)/2)\n"
   ]
  },
  {
   "cell_type": "code",
   "execution_count": 364,
   "metadata": {},
   "outputs": [
    {
     "data": {
      "image/png": "[encoded data removed]",
      "text/plain": [
       "<Figure size 432x288 with 1 Axes>"
      ]
     },
     "metadata": {},
     "output_type": "display_data"
    },
    {
     "name": "stdout",
     "output_type": "stream",
     "text": [
      "('happy', 3, {'type': 3})\n",
      "(2, 4, {'type': 0})\n",
      "(3, 5, {})\n",
      "(4, 5, {})\n"
     ]
    }
   ],
   "source": [
    "import networkx as nx\n",
    "import matplotlib.pyplot as plt\n",
    "\n",
    "# 创建一个有向图\n",
    "G = nx.DiGraph()\n",
    "def a(G1):\n",
    "# 添加节点\n",
    "    G1.add_node('happy')\n",
    "    G1.add_nodes_from([2, 3, 4, 5])\n",
    "\n",
    "    # 添加有向边\n",
    "    # G1.add_edge('happy', 2,attr={'weight':3})\n",
    "    G1.add_edges_from([('happy', 3,{'type':3}), (2, 4,{'type':0}), (3, 5), (4, 5)])\n",
    "a(G)\n",
    "# # 可视化图形\n",
    "pos = nx.spring_layout(G)  # 指定节点位置布局\n",
    "nx.draw(G, pos, with_labels=True, font_weight='bold', arrowsize=15, node_size=700, node_color='skyblue', font_color='black', font_size=10, edge_color='gray', width=2)\n",
    "\n",
    "plt.show()\n",
    "for edge in G.edges(data=True):\n",
    "    print(edge)\n"
   ]
  },
  {
   "cell_type": "code",
   "execution_count": 185,
   "metadata": {},
   "outputs": [
    {
     "name": "stdout",
     "output_type": "stream",
     "text": [
      "tensor([[0, 1],\n",
      "        [0, 3],\n",
      "        [1, 0]])\n",
      "Edge Index: tensor([[0, 0, 1],\n",
      "        [1, 3, 0]])\n",
      "Edge Type: tensor([1, 1, 1])\n"
     ]
    }
   ],
   "source": [
    "# import torch\n",
    "\n",
    "# def adjacency_matrix_to_edge_index_type(adjacency_matrix,maxlen = 3):\n",
    "#     # 获取邻接矩阵的形状\n",
    "#     num_nodes = adjacency_matrix.size(0)\n",
    "\n",
    "#     # 寻找非零元素的索引\n",
    "#     edge_indices = torch.nonzero(adjacency_matrix, as_tuple=False)[:maxlen,:]\n",
    "#     print(edge_indices)\n",
    "#     # 获取非零元素的值，即边的类型\n",
    "#     edge_values = adjacency_matrix[edge_indices[:, 0], edge_indices[:, 1]]\n",
    "\n",
    "#     # 将边索引转置为COO格式的edge_index\n",
    "#     edge_index = edge_indices.t()\n",
    "\n",
    "#     return edge_index, edge_values,edge_indices\n",
    "\n",
    "# # 示例邻接矩阵\n",
    "# adjacency_matrix = torch.tensor([[0, 1, 0, 1],\n",
    "#                                  [1, 0, 1, 0],\n",
    "#                                  [0, 1, 0, 1],\n",
    "#                                  [1, 0, 1, 0]])\n",
    "\n",
    "# # 将邻接矩阵转换为edge_index和edge_type\n",
    "# edge_index, edge_type,edge_indices = adjacency_matrix_to_edge_index_type(adjacency_matrix)\n",
    "\n",
    "# # 打印结果\n",
    "# print(\"Edge Index:\", edge_index)\n",
    "# print(\"Edge Type:\", edge_type)\n"
   ]
  },
  {
   "cell_type": "code",
   "execution_count": 388,
   "metadata": {},
   "outputs": [
    {
     "name": "stdout",
     "output_type": "stream",
     "text": [
      "torch.Size([3, 7]) torch.Size([2, 3]) torch.Size([3])\n",
      "tensor([[ 1.9466,  2.0370,  1.0379,  0.3330,  0.2771, -0.9965,  0.9785],\n",
      "        [-0.4414, -0.2610,  0.7980, -1.1071,  2.3306, -1.0456, -0.4750],\n",
      "        [-0.4953, -0.1984,  2.2149, -0.1367, -1.0182,  0.1784,  1.3025],\n",
      "        [-0.5644, -0.9184, -0.7496, -0.0949,  1.1009,  0.6002, -0.3380],\n",
      "        [-0.4058,  0.9472, -0.1220, -0.3622, -1.5858, -0.4523,  0.3305],\n",
      "        [ 2.1748, -0.2259, -0.2408,  1.7152, -0.7550,  1.5929,  0.3667]]) tensor([[0, 3, 5, 4],\n",
      "        [1, 5, 3, 5]]) tensor([0, 1, 2, 1])\n",
      "tensor([[-0.1749,  0.0120, -0.0954,  0.2538, -0.2454, -0.2480,  0.2549],\n",
      "        [ 0.1086, -0.9078,  0.3624, -0.2280, -0.8461,  0.2396,  1.1302],\n",
      "        [-0.9482,  1.8715,  0.3490,  0.2569,  0.8595,  0.9544, -1.0633],\n",
      "        [-1.4884, -0.5297, -0.6305,  0.4051, -0.8209,  1.7092, -0.1625],\n",
      "        [-0.4194,  0.1931, -0.0578, -0.1672, -0.3609,  0.4197,  0.4662],\n",
      "        [ 0.2917,  0.1338,  0.6785, -0.3219, -1.4433, -0.6485,  0.5289]],\n",
      "       grad_fn=<AddBackward0>) torch.Size([6, 7])\n"
     ]
    },
    {
     "name": "stderr",
     "output_type": "stream",
     "text": [
      "/home/dingdaijun/anaconda3/envs/ddj_prompt/lib/python3.9/site-packages/torch_geometric/deprecation.py:22: UserWarning: 'data.DataLoader' is deprecated, use 'loader.DataLoader' instead\n",
      "  warnings.warn(out)\n"
     ]
    }
   ],
   "source": [
    "import torch\n",
    "from torch_geometric.nn import RGCNConv\n",
    "from torch_geometric.data import Data, DataLoader, Batch\n",
    "np.random.seed(0)\n",
    "torch.manual_seed(0)\n",
    "torch.cuda.manual_seed(0)\n",
    "torch.backends.cudnn.deterministic = True\n",
    "torch.backends.cudnn.benchmark = False\n",
    "class RGCN(torch.nn.Module):\n",
    "    def __init__(self, in_channels, out_channels, num_relations):\n",
    "        super(RGCN, self).__init__()\n",
    "        self.conv1 = RGCNConv(in_channels, out_channels, num_relations=num_relations)\n",
    "        self.conv2 = RGCNConv(out_channels, out_channels, num_relations=num_relations)\n",
    "        \n",
    "    def forward(self, x, edge_index, edge_type, batch=None):\n",
    "        print(x, edge_index, edge_type)\n",
    "        x = self.conv1(x, edge_index, edge_type)\n",
    "        x = torch.relu(x)\n",
    "        x = self.conv2(x, edge_index, edge_type)\n",
    "        return x\n",
    "\n",
    "# 示例参数\n",
    "in_channels = 7\n",
    "out_channels = 7\n",
    "num_relations = 5\n",
    "model = RGCN(in_channels, out_channels, num_relations)\n",
    "\n",
    "# 创建几个示例图数据\n",
    "data_list = [\n",
    "    Data(x=torch.randn(3, in_channels), edge_index=torch.tensor([[0], [1]], dtype=torch.long), edge_type=torch.tensor([0])),\n",
    "    Data(x=torch.randn(3, in_channels), edge_index=torch.tensor([[0, 2,1], [2, 0,2]], dtype=torch.long), edge_type=torch.tensor([1, 2,1]))\n",
    "    # 添加更多图数据\n",
    "]\n",
    "\n",
    "# x = torch.cat([data.x for data in data_list], dim=0)\n",
    "# edge_index = torch.cat([data.edge_index for data in data_list], dim=1)\n",
    "# edge_type = torch.cat([data.edge_type for data in data_list], dim=0)\n",
    "\n",
    "# print(edge_index, edge_type)\n",
    "# out = model(x, edge_index, edge_type)\n",
    "# # print(out.size())\n",
    "# print(out)\n",
    "# 创建DataLoader用于批量处理\n",
    "print(torch.randn(3, in_channels).size(), torch.tensor([[0, 2,1], [2, 0,2]], dtype=torch.long).size(), torch.tensor([1, 2,1]).size())\n",
    "loader = DataLoader(data_list, batch_size=2,shuffle=False)\n",
    "\n",
    "# 迭代批量处理\n",
    "for batch_data in loader:\n",
    "# batch_data = list(loader)[0]\n",
    "    # print(batch_data.edge_index, batch_data.edge_type)\n",
    "    graph_text_out = model(batch_data.x, batch_data.edge_index, batch_data.edge_type, batch_data.batch)\n",
    "    print(graph_text_out,graph_text_out.size())\n",
    "    # print([len(d) for d in batch_data.x])\n",
    "    graph_output_split = torch.split(graph_text_out, [3,3], dim=0)\n",
    "    # print(graph_output_split)\n",
    "    graph_text_out = torch.cat([_item.unsqueeze(0) for _item in graph_output_split],0)"
   ]
  },
  {
   "cell_type": "code",
   "execution_count": 389,
   "metadata": {},
   "outputs": [
    {
     "name": "stdout",
     "output_type": "stream",
     "text": [
      "[Data(x=[3, 7], edge_index=[2, 1], edge_type=[1]), Data(x=[3, 7], edge_index=[2, 3], edge_type=[3])]\n"
     ]
    }
   ],
   "source": [
    "print(data_list)"
   ]
  },
  {
   "cell_type": "code",
   "execution_count": 390,
   "metadata": {},
   "outputs": [
    {
     "name": "stdout",
     "output_type": "stream",
     "text": [
      "DataBatch(x=[6, 7], edge_index=[2, 4], edge_type=[4], batch=[6], ptr=[3])\n"
     ]
    }
   ],
   "source": [
    "print(list(loader)[0])"
   ]
  },
  {
   "cell_type": "code",
   "execution_count": 380,
   "metadata": {},
   "outputs": [
    {
     "name": "stdout",
     "output_type": "stream",
     "text": [
      "torch.Size([2, 6, 7]) torch.Size([6, 7]) tensor([0, 1, 1, 2]) tensor([[0, 1, 0, 2],\n",
      "        [1, 0, 2, 0]]) tensor([0., 0., 0., 0., 0., 0., 1., 1., 1., 1., 1., 1.])\n"
     ]
    }
   ],
   "source": [
    "import torch\n",
    "from torch_geometric.nn import RGCNConv\n",
    "# from torch_geometric.data import Data, DataLoader, Batch\n",
    "from torch.utils.data import DataLoader\n",
    "\n",
    "class RGCN(torch.nn.Module):\n",
    "    def __init__(self, in_channels, out_channels, num_relations):\n",
    "        super(RGCN, self).__init__()\n",
    "        self.conv1 = RGCNConv(in_channels, out_channels, num_relations=num_relations)\n",
    "        self.conv2 = RGCNConv(out_channels, out_channels, num_relations=num_relations)\n",
    "\n",
    "    def forward(self, x, edge_index, edge_type, batch):\n",
    "        x = self.conv1(x, edge_index, edge_type)\n",
    "        x = torch.relu(x)\n",
    "        x = self.conv2(x, edge_index, edge_type)\n",
    "        return x\n",
    "\n",
    "# 示例参数\n",
    "in_channels = 7\n",
    "out_channels = 7\n",
    "num_relations = 3\n",
    "model = RGCN(in_channels, out_channels, num_relations)\n",
    "\n",
    "# 创建几个示例图数据\n",
    "data_list = [\n",
    "    [torch.randn(6, in_channels), torch.tensor([[0, 1], [1, 0],[0,0],[0,0]], dtype=torch.long), torch.tensor([0, 1,-1,-1])],\n",
    "    [torch.randn(6, in_channels), torch.tensor([[0, 2], [2, 0],[0,0],[0,0]], dtype=torch.long), torch.tensor([1, 2,-1,-1])],\n",
    "    # 添加更多图数据\n",
    "]\n",
    "\n",
    "# 创建DataLoader用于批量处理\n",
    "# loader = DataLoader(data_list, batch_size=2,shuffle=True)\n",
    "loader = DataLoader(data_list, batch_size=2, shuffle=True)\n",
    "# 迭代批量处理\n",
    "for data in loader:\n",
    "    # print(data[2].size())\n",
    "    x_batch = torch.cat([d for d in data[0]], dim=0)\n",
    "    edge_index_batch = torch.cat([d1[d2>=0] for d1,d2 in zip(data[1],data[2])], dim=1)\n",
    "    edge_type_batch = torch.cat([d[d>=0] for d in data[2]], dim=0)\n",
    "    batch = torch.cat([torch.full_like(d[:, 0], i) for i, d in enumerate(data[0])])\n",
    "    output = model(x_batch, edge_index_batch, edge_type_batch, batch)\n",
    "    output_split = torch.split(output, [len(d) for d in data[0]], dim=0)\n",
    "    output = torch.cat([soutput_split.unsqueeze(0) for soutput_split in output_split],0)\n",
    "    print(output.size(),output_split[0].size(),edge_type_batch,edge_index_batch,batch)"
   ]
  },
  {
   "cell_type": "code",
   "execution_count": 387,
   "metadata": {},
   "outputs": [
    {
     "data": {
      "text/plain": [
       "(tensor([1, 1]),\n",
       " tensor([[1, 2],\n",
       "         [2, 1]]))"
      ]
     },
     "execution_count": 387,
     "metadata": {},
     "output_type": "execute_result"
    }
   ],
   "source": [
    "a = torch.tensor([[1,2,0,0],[2,1,0,0]])\n",
    "b = torch.tensor([1,1,-1,-1])\n",
    "b[b>=0],a[:,:len(b[b>=0])]"
   ]
  },
  {
   "cell_type": "code",
   "execution_count": 288,
   "metadata": {},
   "outputs": [
    {
     "data": {
      "text/plain": [
       "torch.Size([4, 2])"
      ]
     },
     "execution_count": 288,
     "metadata": {},
     "output_type": "execute_result"
    }
   ],
   "source": [
    "a = torch.tensor([[0, 1],\n",
    "        [1, 0],\n",
    "        [1, 2],\n",
    "        [2, 1]])\n",
    "a.size()"
   ]
  },
  {
   "cell_type": "markdown",
   "metadata": {},
   "source": [
    "正式开始"
   ]
  },
  {
   "cell_type": "code",
   "execution_count": 3,
   "metadata": {},
   "outputs": [],
   "source": [
    "stopwords_list = []\n",
    "with open('../datasets/stopwords.txt') as f:\n",
    "    lines = f.readlines()\n",
    "    for line in lines:\n",
    "        stopwords_list.append(line.strip())"
   ]
  },
  {
   "cell_type": "code",
   "execution_count": 19,
   "metadata": {},
   "outputs": [],
   "source": [
    "import csv\n",
    "import pandas as pd\n",
    "import re\n",
    "merge_pdr = pd.read_csv('../datasets/merge/dt/dt.csv')\n",
    "\n"
   ]
  },
  {
   "cell_type": "code",
   "execution_count": 20,
   "metadata": {},
   "outputs": [
    {
     "data": {
      "text/plain": [
       "\"( ( ( ¬fellow Tean ∧ (¬ shops Macy ' s ∨ ¬ ¬shops Dillard ' s ) ) → ¬Donald Trump ) → neutral )\""
      ]
     },
     "execution_count": 20,
     "metadata": {},
     "output_type": "execute_result"
    }
   ],
   "source": [
    "import re\n",
    "def fit_text(original_string):\n",
    "    match = re.search(r'¬\\((.*?)\\)', original_string)\n",
    "\n",
    "    if match:\n",
    "        # 获取括号内的内容\n",
    "        inside_content = f\"¬{match.group(1)}\"\n",
    "        new_content = re.sub(r'(\\∨|\\→|∧)', r'\\1 ¬', inside_content)\n",
    "\n",
    "        # 替换原始字符串\n",
    "        result_string = original_string.replace(match.group(0), f'({new_content})')\n",
    "\n",
    "        return result_string\n",
    "    else:\n",
    "        return original_string\n"
   ]
  },
  {
   "cell_type": "code",
   "execution_count": 109,
   "metadata": {},
   "outputs": [],
   "source": [
    "pattern = r'(\\w+|\\S)'\n",
    "def clean_data(text):\n",
    "    text = re.sub(r'\\((\\w)\\)',r' ',text)\n",
    "    text = text.replace('¬','¬ ')\n",
    "    text = text.replace('(','( ')\n",
    "    text = re.sub(r'∃\\w|∀\\w','',text).strip()\n",
    "    text_list = text.split(' ')\n",
    "    # print(text)\n",
    "    text = ' '.join([item for item in text_list if item not in stopwords_list])\n",
    "    # return text\n",
    "    text = re.sub(r'\\s+',' ',' '.join(re.findall(pattern, text))).replace('¬ ','¬')\n",
    "    cnt = 0\n",
    "    # print(text)\n",
    "    while '¬(' in text and cnt <=3:\n",
    "        # print(text)\n",
    "        text = fit_text(text)\n",
    "        cnt += 1\n",
    "\n",
    "    return re.sub(r'\\s+',' ',' '.join(re.findall(pattern, text))).replace('¬ ','¬')\n",
    "        \n",
    "    # text = re.split(r'(\\∧|\\→|\\∨)', text)\n",
    "    # return [item.strip() for item in text if item.strip()]\n",
    "\n",
    "    # text = re.sub('')\n",
    "def split_opera_sign(text):\n",
    "    text = re.split(r'(\\∧|\\→|\\∨)', text)\n",
    "    return [item.strip() for item in text if item.strip()]\n"
   ]
  },
  {
   "cell_type": "code",
   "execution_count": 115,
   "metadata": {},
   "outputs": [
    {
     "name": "stdout",
     "output_type": "stream",
     "text": [
      "[1. 1. 1. 1. 0.] 3 <class 'numpy.ndarray'>\n",
      "[[ 0.  0. -1.  1.  1.]\n",
      " [ 0.  0. -1.  1.  1.]\n",
      " [ 0.  0.  0.  1.  1.]\n",
      " [ 0.  0.  0.  1.  1.]\n",
      " [ 0.  0.  0.  0.  0.]]\n"
     ]
    }
   ],
   "source": [
    "# import numpy as np\n",
    "\n",
    "# graph_matrix = np.array([\n",
    "# [ 0.,  0., -1.,  1.],\n",
    "# [ 0.,  0., -1.,  1.],\n",
    "# [ 0.,  0.,  0.,  1.],\n",
    "# [ 0.,  0.,  0.,  1.],\n",
    "# [ 0.,  0.,  0.,  0.],])\n",
    "# new_col = graph_matrix[:, 3]\n",
    "# print(new_col,3,type(graph_matrix))\n",
    "# graph_matrix = np.insert(graph_matrix, 3, new_col, axis=1)\n",
    "# print(graph_matrix)"
   ]
  },
  {
   "cell_type": "code",
   "execution_count": 51,
   "metadata": {},
   "outputs": [
    {
     "data": {
      "text/plain": [
       "('∀x (¬mentioned(x) → ¬Trump(x)) → Neutral',\n",
       " '( ¬ mentioned → ¬ Trump ) → Neutral')"
      ]
     },
     "execution_count": 51,
     "metadata": {},
     "output_type": "execute_result"
    }
   ],
   "source": [
    "# pattern = r'(\\w+|\\S)'\n",
    "# re.sub(r'\\(\\w\\)',r' ','∀x (surprised(x) ∧ disapproves(x)')\n",
    "# re.findall(pattern, '∀x (surprised(x) ∧ disapproves(x)')\n",
    "\n",
    "# pattern = r'(\\w+|\\S)'\n",
    "# fol = re.sub(r'∃\\w|∀\\w','',f\"({line['FOL']})\").strip()\n",
    "\n",
    "# # fol = re.sub(r'\\((\\w)\\)', r' \\1',fol)\n",
    "# fol = re.sub(r'\\((\\w)\\)', r' ',fol)\n",
    "# fol = re.sub(r'\\s+',' ',fol)\n",
    "# fol = ' '.join(re.findall(pattern, fol))\n",
    "# claude_list[0],clean_data(claude_list[0])"
   ]
  },
  {
   "cell_type": "code",
   "execution_count": 180,
   "metadata": {},
   "outputs": [
    {
     "data": {
      "text/plain": [
       "torch.Size([1, 3])"
      ]
     },
     "execution_count": 180,
     "metadata": {},
     "output_type": "execute_result"
    }
   ],
   "source": [
    "a  = torch.tensor([[1,2,4]])\n",
    "a.shape"
   ]
  },
  {
   "cell_type": "code",
   "execution_count": 61,
   "metadata": {},
   "outputs": [],
   "source": [
    "claude_list = merge_pdr['Ans2'].apply(clean_data)\n",
    "lla_list = merge_pdr['Ans3'].apply(clean_data)\n",
    "gpt_list = merge_pdr['Ans1'].apply(clean_data)"
   ]
  },
  {
   "cell_type": "code",
   "execution_count": 30,
   "metadata": {},
   "outputs": [
    {
     "data": {
      "text/plain": [
       "(\"( ( ¬fellow Tean ∧ ( ¬shops Macy ' s ∨ ¬shops Dillard ' s ) ) → ¬Donald Trump ) → neutral\",\n",
       " \"∀x ((¬is a fellow Tean(x) ∧ ¬(shops at Macy's(x) ∨ shops at Dillard's(x))) → ¬is Donald Trump(x)) → neutral\")"
      ]
     },
     "execution_count": 30,
     "metadata": {},
     "output_type": "execute_result"
    }
   ],
   "source": [
    "lla_list.values[579],merge_pdr['Ans3'].values[579]"
   ]
  },
  {
   "cell_type": "code",
   "execution_count": 100,
   "metadata": {},
   "outputs": [
    {
     "data": {
      "image/png": "[encoded data removed]",
      "text/plain": [
       "<Figure size 432x288 with 1 Axes>"
      ]
     },
     "metadata": {},
     "output_type": "display_data"
    }
   ],
   "source": [
    "import networkx as nx\n",
    "import matplotlib.pyplot as plt\n",
    "import ast\n",
    "# 创建一个有向图\n",
    "map_weight = {True:-1,False:1}\n",
    "def build_graph(graph,prev,value,opera_sign):\n",
    "    graph.add_nodes_from([item.lower().replace('¬','') for item in prev])\n",
    "    graph.add_nodes_from([item.lower().replace('¬','') for item in value])\n",
    "    if opera_sign == '∧':\n",
    "        graph.add_edges_from([(itemx.lower().replace('¬',''),itemy.lower().replace('¬',''),{'weight':map_weight['¬' in itemy]}) for itemx in prev for itemy in value if itemx != itemy])\n",
    "        graph.add_edges_from([(itemy.lower().replace('¬',''),itemx.lower().replace('¬',''),{'weight':map_weight['¬' in itemx]}) for itemx in prev for itemy in value if itemx != itemy])\n",
    "    elif opera_sign == '→':\n",
    "        graph.add_edges_from([(itemx.lower().replace('¬',''),itemy.lower().replace('¬',''),{'weight':map_weight['¬' in itemy]}) for itemx in prev for itemy in value if itemx != itemy])\n",
    "\n",
    "_all_node = []\n",
    "# for line in lla_list:\n",
    "for line in [\"∀x ((is the Feminist Movement(x) → (advocates for y(x, wants equal prison time) ∧ advocates for y(x, wants to lose custody rights))) ∧ won't do it(x)) → opposed\"]:\n",
    "    G = nx.DiGraph()\n",
    "    str_stack = []\n",
    "    line = f'( {line} )'\n",
    "    # print(line)\n",
    "    for _index,item in enumerate(line.split(' ')):\n",
    "        # print(item,str_stack)\n",
    "        # print(_index == len(line.split(' '))-1)\n",
    "        if item != ')':\n",
    "            str_stack.append(item)\n",
    "        else:\n",
    "            # print(item,str_stack)\n",
    "            sub_fol = []\n",
    "            # print(str_stack)\n",
    "            while str_stack[-1] != '(':\n",
    "                sub_fol.append(str_stack[-1])\n",
    "                str_stack.pop()\n",
    "                if len(str_stack) == 0: break\n",
    "            \n",
    "            str_stack.pop()\n",
    "            assert sub_fol[0] not in ['∧','→','∨']\n",
    "            sub_fol.reverse()\n",
    "            sub_fol = split_opera_sign(' '.join([str(item) for item in sub_fol]))\n",
    "            # print(sub_fol)\n",
    "            sub_fol = [ast.literal_eval(item) if item.startswith('[') else item for item in sub_fol]\n",
    "\n",
    "            prev = []\n",
    "            value = []\n",
    "            pre_sign = ''\n",
    "            for _item in sub_fol:\n",
    "                if _item not in ['∧','→','∨']:\n",
    "                    if type(_item) == list:\n",
    "                        value = _item\n",
    "                    else:\n",
    "                        value= [_item]\n",
    "                    _all_node.extend(value)\n",
    "                else:\n",
    "                    if len(prev) != 0:\n",
    "                        build_graph(G,prev,value,pre_sign)\n",
    "                    # else:\n",
    "                    pre_sign = _item\n",
    "                    prev = value\n",
    "                    value = []\n",
    "            if len(prev) != 0 and len(value) != 0:\n",
    "                build_graph(G,prev,value,pre_sign)\n",
    "            str_stack.append(_all_node)\n",
    "            _all_node = []\n",
    "pos = nx.spring_layout(G)  # 指定节点位置布局\n",
    "nx.draw(G, pos, with_labels=True, font_weight='bold', arrowsize=15, node_size=700, node_color='skyblue', font_color='black', font_size=10, edge_color='gray', width=2)\n",
    "\n",
    "plt.show()\n"
   ]
  },
  {
   "cell_type": "code",
   "execution_count": 144,
   "metadata": {},
   "outputs": [
    {
     "name": "stdout",
     "output_type": "stream",
     "text": [
      "Edge Index:\n",
      "[[0 1 2]\n",
      " [1 2 0]]\n",
      "Edge Type:\n",
      "[0 1 2]\n"
     ]
    }
   ],
   "source": [
    "import numpy as np\n",
    "import networkx as nx\n",
    "\n",
    "def nx_to_edge_index_edge_type_np(graph):\n",
    "    edge_index = []\n",
    "    edge_type = []\n",
    "\n",
    "    # 将每条边的起始节点、目标节点和关系类型添加到相应的列表中\n",
    "    for edge in graph.edges(data=True):\n",
    "        start, end, attr = edge\n",
    "        edge_index.append([start, end])\n",
    "        edge_type.append(attr.get('edge_type', 0))  # 如果没有定义关系类型，默认为0\n",
    "\n",
    "    # 将列表转换为NumPy数组\n",
    "    edge_index = np.array(edge_index, dtype=np.int64).T.copy()\n",
    "    edge_type = np.array(edge_type, dtype=np.int64)\n",
    "\n",
    "    return edge_index, edge_type\n",
    "\n",
    "# 创建一个简单的图\n",
    "G = nx.MultiDiGraph()\n",
    "G.add_edge(0, 1, edge_type=0)\n",
    "G.add_edge(1, 2, edge_type=1)\n",
    "G.add_edge(2, 0, edge_type=2)\n",
    "\n",
    "# 转换成edge_index和edge_type的格式\n",
    "edge_index, edge_type = nx_to_edge_index_edge_type_np(G)\n",
    "\n",
    "print(\"Edge Index:\")\n",
    "print(edge_index)\n",
    "print(\"Edge Type:\")\n",
    "print(edge_type)\n"
   ]
  },
  {
   "cell_type": "code",
   "execution_count": 146,
   "metadata": {},
   "outputs": [
    {
     "data": {
      "text/plain": [
       "{'b': 0, 'a': 1, 'dd': 2}"
      ]
     },
     "execution_count": 146,
     "metadata": {},
     "output_type": "execute_result"
    }
   ],
   "source": [
    "a = ['b','a','dd']\n",
    "c = {key:value for value,key in enumerate(a)}\n",
    "c"
   ]
  },
  {
   "cell_type": "code",
   "execution_count": 142,
   "metadata": {},
   "outputs": [
    {
     "data": {
      "text/plain": [
       "array([[1., 1., 0., 0., 1.],\n",
       "       [1., 1., 1., 0., 1.],\n",
       "       [0., 1., 1., 1., 1.],\n",
       "       [0., 0., 0., 1., 1.],\n",
       "       [0., 0., 0., 0., 1.]])"
      ]
     },
     "execution_count": 142,
     "metadata": {},
     "output_type": "execute_result"
    }
   ],
   "source": [
    "import numpy as np\n",
    "\n",
    "# # 原始矩阵\n",
    "original_matrix = np.array([[0., 1., 0., 0., 1.],\n",
    "                            [1., 0., 1., 0., 1.],\n",
    "                            [0., 1., 0., 1., 1.],\n",
    "                            [0., 0., 0., 0., 1.],\n",
    "                            [0., 0., 0., 0., 0.]])\n",
    "# original_matrix = np.vstack([original_matrix, np.zeros((2, original_matrix.shape[1]))])\n",
    "# original_matrix = np.hstack([original_matrix, np.zeros((original_matrix.shape[0], 2))])\n",
    "# # 复制第4行，并插入到矩阵中\n",
    "# new_row = original_matrix[3, :]\n",
    "# original_matrix = np.insert(original_matrix, 3, new_row, axis=0)\n",
    "\n",
    "# # 复制第4列，并插入到矩阵中\n",
    "# new_col = original_matrix[:, 3]\n",
    "# original_matrix = np.insert(original_matrix, 3, new_col, axis=1)\n",
    "\n",
    "# print(original_matrix)\n",
    "# original_matrix[:2,:2]\n",
    "# torch.tensor([original_matrix.tolist(),original_matrix.tolist()]).long().size()\n",
    "np.fill_diagonal(original_matrix, 1)\n",
    "original_matrix\n",
    "\n"
   ]
  },
  {
   "cell_type": "code",
   "execution_count": 138,
   "metadata": {},
   "outputs": [
    {
     "data": {
      "text/plain": [
       "tensor([[1., 1., 1.],\n",
       "        [2., 2., 2.],\n",
       "        [3., 3., 3.],\n",
       "        [4., 4., 4.]])"
      ]
     },
     "execution_count": 138,
     "metadata": {},
     "output_type": "execute_result"
    }
   ],
   "source": [
    "a = torch.tensor([[1,1,1],[2,2,2],[3,3,3],[4,4,4]])\n",
    "a.float()"
   ]
  },
  {
   "cell_type": "code",
   "execution_count": 140,
   "metadata": {},
   "outputs": [
    {
     "data": {
      "text/plain": [
       "array([[1., 0., 0., 0.],\n",
       "       [0., 1., 0., 0.],\n",
       "       [0., 0., 1., 0.],\n",
       "       [0., 0., 0., 1.]])"
      ]
     },
     "execution_count": 140,
     "metadata": {},
     "output_type": "execute_result"
    }
   ],
   "source": [
    "np.eye(4)"
   ]
  },
  {
   "cell_type": "code",
   "execution_count": 137,
   "metadata": {},
   "outputs": [
    {
     "name": "stdout",
     "output_type": "stream",
     "text": [
      "tensor([1, 1, 1])\n",
      "tensor([2, 2, 2])\n",
      "tensor([3, 3, 3])\n",
      "tensor([4, 4, 4])\n"
     ]
    }
   ],
   "source": [
    "for i in a:\n",
    "    print(i)"
   ]
  },
  {
   "cell_type": "code",
   "execution_count": 130,
   "metadata": {},
   "outputs": [
    {
     "data": {
      "text/plain": [
       "0"
      ]
     },
     "execution_count": 130,
     "metadata": {},
     "output_type": "execute_result"
    }
   ],
   "source": [
    "len('')"
   ]
  },
  {
   "cell_type": "code",
   "execution_count": 129,
   "metadata": {},
   "outputs": [
    {
     "data": {
      "text/plain": [
       "'( abortion → ( ( ¬→ ¬¬requires consent ) ∧ sentence supportive ) ) → support'"
      ]
     },
     "execution_count": 129,
     "metadata": {},
     "output_type": "execute_result"
    }
   ],
   "source": [
    "def clean_data(text):\n",
    "        text = re.sub(r'\\((\\w)\\)',r' ',text)\n",
    "        text = text.replace('¬∀x','∀x ¬')\n",
    "        text = text.replace('¬∃x','∀x ¬')\n",
    "        text = text.replace('¬∃y','∀y ¬')\n",
    "        text = text.replace('¬∃y','∀y ¬')\n",
    "        text = text.replace('¬','¬ ')\n",
    "        text = text.replace('(','( ')\n",
    "        text = re.sub(r'∃\\w|∀\\w','',text).strip()\n",
    "        text_list = text.split(' ')\n",
    "        text = ' '.join([item for item in text_list if item not in stopwords_list])\n",
    "        # return text\n",
    "        text = re.sub(r'\\s+',' ',' '.join(re.findall(pattern, text))).replace('¬ ','¬')\n",
    "        cnt = 0\n",
    "        # print(text)\n",
    "        while '¬(' in text and cnt <=3:\n",
    "            # print(text)\n",
    "            text = fit_text(text)\n",
    "            cnt += 1\n",
    "\n",
    "        return re.sub(r'\\s+',' ',' '.join(re.findall(pattern, text))).replace('¬ ','¬')\n",
    "clean_data(\"∀x (is abortion(x) → (¬∃y (y → ¬requires consent(y)) ∧ sentence is supportive of(x))) → support\")"
   ]
  },
  {
   "cell_type": "markdown",
   "metadata": {},
   "source": [
    "测试bert"
   ]
  },
  {
   "cell_type": "code",
   "execution_count": 69,
   "metadata": {},
   "outputs": [],
   "source": [
    "from transformers import BertConfig, BertTokenizer, BertModel, \\\n",
    "                         RobertaConfig, RobertaTokenizer, RobertaModel, \\\n",
    "                         AlbertTokenizer, AlbertConfig, AlbertModel, \\\n",
    "                         AutoTokenizer\n",
    "tokenizer = BertTokenizer.from_pretrained('bert-base-uncased')\n"
   ]
  },
  {
   "cell_type": "code",
   "execution_count": 76,
   "metadata": {},
   "outputs": [
    {
     "data": {
      "text/plain": [
       "{'input_ids': tensor([[6221, 8398, 2003, 1037, 2111, 4018, 2094]]), 'token_type_ids': tensor([[0, 0, 0, 0, 0, 0, 0]]), 'attention_mask': tensor([[1, 1, 1, 1, 1, 1, 1]])}"
      ]
     },
     "execution_count": 76,
     "metadata": {},
     "output_type": "execute_result"
    }
   ],
   "source": [
    "str_text = 'donald trump is a people candidated'\n",
    "tokenizer.encode_plus(str_text,return_tensors='pt',add_special_tokens=False)"
   ]
  },
  {
   "cell_type": "code",
   "execution_count": 79,
   "metadata": {},
   "outputs": [
    {
     "name": "stdout",
     "output_type": "stream",
     "text": [
      "[6221]\n",
      "[8398]\n",
      "[2003]\n",
      "[1037]\n",
      "[2111]\n",
      "[4018, 2094]\n"
     ]
    }
   ],
   "source": [
    "for sign_text in str_text.split(' '):\n",
    "    print(tokenizer.encode(sign_text,add_special_tokens=False))"
   ]
  },
  {
   "cell_type": "code",
   "execution_count": 94,
   "metadata": {},
   "outputs": [],
   "source": [
    "import torch\n",
    "a = torch.Tensor(3,4,1)"
   ]
  },
  {
   "cell_type": "code",
   "execution_count": 97,
   "metadata": {},
   "outputs": [
    {
     "data": {
      "text/plain": [
       "torch.Size([3, 4])"
      ]
     },
     "execution_count": 97,
     "metadata": {},
     "output_type": "execute_result"
    }
   ],
   "source": [
    "a = a.squeeze(-1)\n",
    "a.size()"
   ]
  }
 ],
 "metadata": {
  "kernelspec": {
   "display_name": "ddj_prompt",
   "language": "python",
   "name": "python3"
  },
  "language_info": {
   "codemirror_mode": {
    "name": "ipython",
    "version": 3
   },
   "file_extension": ".py",
   "mimetype": "text/x-python",
   "name": "python",
   "nbconvert_exporter": "python",
   "pygments_lexer": "ipython3",
   "version": "3.9.7"
  }
 },
 "nbformat": 4,
 "nbformat_minor": 2
}
