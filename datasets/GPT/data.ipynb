{
 "cells": [
  {
   "cell_type": "code",
   "execution_count": 15,
   "metadata": {},
   "outputs": [
    {
     "name": "stdout",
     "output_type": "stream",
     "text": [
      "∀x ((is democracy(x) ∧ (issued decrees that were in the best interests of y(x) ∨ could result in the removal of y(x))) → is a system(x)) ∧ (∀x ((issued decrees that were in the best interests of y(x) ∨ is a royal ruler(x)) → ¬could result in the removal of y(x))) ∧ (∀x ((issued decrees that were in the best interests of y(x) ∨ is a royal ruler(x)) → ¬is in the best interests(x)))) ∧ (∀x ((issued decrees that were in the best interests of y(x) ∨ is a royal ruler(x)) → ¬is governed(x)))) ∧ (∀x ((is a royal ruler(x) ∧ went down in history(x)) → (∃y (issued decrees that were in the best interests of y(y, x) ∧ is in the best interests(y))))) ∧ (∀x ((is democracy(x) ∧ is a leader(x)) → (∀y (is a mistake(y) → ¬(is a leader(y) ∧ failed this test(y)))))) ∧ (∀x ((has ultimate power(x) ∧ has the right to make mistakes(x)) → ¬(could result in the removal of y(x, y))\n",
      "∀x ((is democracy(x) ∧ (issued decrees that were in the best interests of y(x) ∨ could result in the removal of y(x))) → is a system(x)) ∧ (∀x ((issued decrees that were in the best interests of y(x) ∨ is a royal ruler(x)) → ¬could result in the removal of y(x))) ∧ (∀x ((issued decrees that were in the best interests of y(x) ∨ is a royal ruler(x)) → ¬is in the best interests(x)))) ∧ (∀x ((issued decrees that were in the best interests of y(x) ∨ is a royal ruler(x)) → ¬is governed(x)))) ∧ (∀x ((is a royal ruler(x) ∧ went down in history(x)) → (∃y (issued decrees that were in the best interests of y(y, x) ∧ is in the best interests(y))))) ∧ (∀x ((is democracy(x) ∧ is a leader(x)) → (∀y (is a mistake(y) → ¬(is a leader(y) ∧ failed this test(y)))))) ∧ (∀x ((has ultimate power(x) ∧ has the right to make mistakes(x)) → ¬(could result in the removal of y(x, y))\n"
     ]
    }
   ],
   "source": [
    "import csv\n",
    "with open('vast_10/train.csv') as f:\n",
    "    ls = csv.DictReader(f)\n",
    "    stack = []\n",
    "    for l in ls:\n",
    "        lcnt = 0\n",
    "        text = l['FOL']\n",
    "        for item in text:\n",
    "            try:\n",
    "                if item == '(':\n",
    "                    stack.append(1)\n",
    "                elif item == ')':\n",
    "                    stack.pop()\n",
    "            except:\n",
    "                print(text)\n",
    "        # if lcnt != 0:\n",
    "        #     print(text)"
   ]
  },
  {
   "cell_type": "code",
   "execution_count": 4,
   "metadata": {},
   "outputs": [],
   "source": [
    "a = [ 1640,    36,    36,    16,  4593, 47444,  6248,    36,  1167, 33186,\n",
    "          293,    14,    58,    11,     5,   275,  3168,     9,  1423, 47444,\n",
    "        11423,   115,   898,    11,     5,  7129,     9,  1423,  4839,  4839,\n",
    "        42484,    16,    10,   467,  4839, 47444,  6248,    36,    36,    36,\n",
    "         1167, 33186,   293,    14,    58,    11,     5,   275,  3168,     9,\n",
    "         1423, 47444, 11423,    16,    10,  5754, 23586,  4839, 42484,  5505,\n",
    "        11582,   115,   898,    11,     5,  7129,     9,  1423,  4839,  4839,\n",
    "        47444,  6248,    36,    36,    36,  1167, 33186,   293,    14,    58,\n",
    "           11,     5,   275,  3168,     9,  1423, 47444, 11423,    16,    10,\n",
    "         5754, 23586,  4839, 42484,  5505, 11582,    16,    11,     5,   275,\n",
    "         3168,  4839,  4839,  4839, 47444,  6248,    36,    36,    36,  1167,\n",
    "        33186,   293,    14,    58,    11,     5,   275,  3168,     9,  1423,\n",
    "        47444, 11423,    16,    10,  5754, 23586,  4839, 42484,  5505, 11582,\n",
    "           16, 22635,  4839,  4839,  4839, 47444,  6248,    36,    36,    36,\n",
    "           16,    10,  5754, 23586, 47444,  6248,   439,   159,    11,   750,\n",
    "         4839, 42484,    36,    36,  1167, 33186,   293,    14,    58,    11,\n",
    "            5,   275,  3168,     9,  1423,    36,  1423,  2156,  3023,  4839,\n",
    "        47444,  6248,    16,    11,     5,   275,  3168,  4839,  4839,  4839]"
   ]
  },
  {
   "cell_type": "code",
   "execution_count": 12,
   "metadata": {},
   "outputs": [],
   "source": [
    "a = [ 1640,    -1, 47444,  6248,    -1,\n",
    "        47444,  6248,    -1,  4839, 47444,  6248,    36,    36,    36,  1167,\n",
    "        33186,   293,    14,    58,    11,     5,   275,  3168,     9,  1423,\n",
    "        47444, 11423,    16,    10,  5754, 23586,  4839, 42484,  5505, 11582,\n",
    "           16, 22635,  4839,  4839,  4839, 47444,  6248,    36,    36,    36,\n",
    "           16,    10,  5754, 23586, 47444,  6248,   439,   159,    11,   750,\n",
    "         4839, 42484,    36,    36,  1167, 33186,   293,    14,    58,    11,\n",
    "            5,   275,  3168,     9,  1423,    36,  1423,  2156,  3023,  4839,\n",
    "        47444,  6248,    16,    11,     5,   275,  3168,  4839,  4839,  4839]"
   ]
  },
  {
   "cell_type": "code",
   "execution_count": 13,
   "metadata": {},
   "outputs": [
    {
     "data": {
      "text/plain": [
       "10"
      ]
     },
     "execution_count": 13,
     "metadata": {},
     "output_type": "execute_result"
    }
   ],
   "source": [
    "a.count(4839)"
   ]
  },
  {
   "cell_type": "code",
   "execution_count": 14,
   "metadata": {},
   "outputs": [
    {
     "data": {
      "text/plain": [
       "9"
      ]
     },
     "execution_count": 14,
     "metadata": {},
     "output_type": "execute_result"
    }
   ],
   "source": [
    ") ∧ (∀x ((is a royal ruler(x) ∧ went down in history(x)) → (∃y (issued decrees that were in the best interests of y(y, x) ∧ is in the best interests(y))))) ∧ (∀x ((is democracy(x) ∧ is a leader(x)) → (∀y (is a mistake(y) → ¬(is a leader(y) ∧ failed this test(y)))))) ∧ (∀x ((has ultimate power(x) ∧ has the right to make mistakes(x)) → ¬(could result in the removal of y(x, y))\n"
   ]
  }
 ],
 "metadata": {
  "kernelspec": {
   "display_name": "ddj_prompt",
   "language": "python",
   "name": "python3"
  },
  "language_info": {
   "codemirror_mode": {
    "name": "ipython",
    "version": 3
   },
   "file_extension": ".py",
   "mimetype": "text/x-python",
   "name": "python",
   "nbconvert_exporter": "python",
   "pygments_lexer": "ipython3",
   "version": "3.9.7"
  }
 },
 "nbformat": 4,
 "nbformat_minor": 2
}
