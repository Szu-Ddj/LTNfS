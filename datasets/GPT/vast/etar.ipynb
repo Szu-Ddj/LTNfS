{
 "cells": [
  {
   "cell_type": "code",
   "execution_count": 3,
   "metadata": {},
   "outputs": [],
   "source": [
    "import csv\n",
    "with open('train.csv') as f, open('test.csv') as f2, open('target.txt','w') as fw:\n",
    "    ls1,ls2 = csv.DictReader(f),csv.DictReader(f2)\n",
    "    \n",
    "    target_dict = []\n",
    "    for l1 in ls1:\n",
    "        if l1['Target'] not in target_dict:\n",
    "            target_dict.append(l1['Target'])\n",
    "    for l2 in ls2:\n",
    "        if l2['Target'] not in target_dict:\n",
    "            target_dict.append(l2['Target'])\n",
    "    for item in target_dict:\n",
    "        fw.write(f\"{item}\\n\")"
   ]
  }
 ],
 "metadata": {
  "kernelspec": {
   "display_name": "ddj_prompt",
   "language": "python",
   "name": "python3"
  },
  "language_info": {
   "codemirror_mode": {
    "name": "ipython",
    "version": 3
   },
   "file_extension": ".py",
   "mimetype": "text/x-python",
   "name": "python",
   "nbconvert_exporter": "python",
   "pygments_lexer": "ipython3",
   "version": "3.9.7"
  }
 },
 "nbformat": 4,
 "nbformat_minor": 2
}
